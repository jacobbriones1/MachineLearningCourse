{
 "cells": [
  {
   "cell_type": "markdown",
   "id": "04e5b0a4-f35f-4801-8d4a-aa8713d27ce7",
   "metadata": {},
   "source": [
    "# <u>**MNIST Digit workbook**</u>"
   ]
  },
  {
   "cell_type": "markdown",
   "id": "6080b2e5-532e-447e-8389-cb2728fca5dc",
   "metadata": {},
   "source": [
    "This workbook is going to show you how to load datasets from Keras, and view the data using `matplotlib`"
   ]
  },
  {
   "cell_type": "code",
   "execution_count": 1,
   "id": "e94253fd-2f45-4513-884c-3b323fd16c94",
   "metadata": {},
   "outputs": [],
   "source": [
    "import numpy as np\n",
    "import matplotlib.pyplot as plt\n",
    "import tensorflow as tf\n",
    "import tensorflow.keras.datasets.mnist as mnist"
   ]
  },
  {
   "cell_type": "markdown",
   "id": "5a6f7e09-e772-472a-804e-d20510e4133b",
   "metadata": {},
   "source": [
    "## Importing the data"
   ]
  },
  {
   "cell_type": "code",
   "execution_count": 2,
   "id": "e2d2be9f-a34e-4cfc-8bc0-71f187142aa6",
   "metadata": {},
   "outputs": [],
   "source": [
    "(train_images, train_labels),(test_images, test_labels) = mnist.load_data()"
   ]
  },
  {
   "cell_type": "markdown",
   "id": "f46d2c51-6750-482a-af8a-ec15c4aae82d",
   "metadata": {
    "tags": []
   },
   "source": [
    "## **Problem 1.** Get the dimensions of the data.\n",
    "\n",
    "Specifically, get the dimensions of `train_images`, `train_labels`, `test_images`, and `test_labels` using the `.shape` command.\n",
    "\n",
    "* For example, if `myArr` is an array, you can get it's shape by calling:\n",
    "`myArr.shape`"
   ]
  },
  {
   "cell_type": "code",
   "execution_count": null,
   "id": "a4d0e035-6a59-489f-811d-c83a3d6c3041",
   "metadata": {},
   "outputs": [],
   "source": []
  },
  {
   "cell_type": "markdown",
   "id": "3f516fab-9d29-4087-a9fd-cc0059551842",
   "metadata": {},
   "source": [
    "You should get a **three dimensional array**.  The first number represents **how many images you have**. The second and third number are the length and width of the image in pixels\n",
    "\n",
    "To get the 50th test image, for example, you could write:\n",
    "* `image_ex = test_image[49]` "
   ]
  },
  {
   "cell_type": "markdown",
   "id": "60264ee7-885d-44ac-9ddd-24161f4cae7c",
   "metadata": {},
   "source": [
    "## **Problem 2.** Make variables to store the following:\n",
    "* The number of training images: `num_train_images`\n",
    "* The number of training labels: `num_train_labels`\n",
    "* The number of test images: `num_test_images`\n",
    "* The number of training labels: `num_train_labels`\n",
    "* The width of each image in pixels: `image_width`\n",
    "* The height of each image in pixels: `image_height`"
   ]
  },
  {
   "cell_type": "code",
   "execution_count": null,
   "id": "78113b63-41fc-4735-99e1-507d95f314f3",
   "metadata": {},
   "outputs": [],
   "source": []
  },
  {
   "cell_type": "markdown",
   "id": "ae890af3-85f5-42f0-b150-4cd869017104",
   "metadata": {},
   "source": [
    "## **Problem 3** Using `matplotlib`, display a test image using `plt.imshow`.\n",
    "\n",
    "* To display a matrix `myArr`, you call: `plt.imshow(myArr)`, and use the `plt.title` command to set the title of the plot to be the **label** of the image from the `test_labels` array"
   ]
  },
  {
   "cell_type": "code",
   "execution_count": null,
   "id": "de492fe7-6137-48d7-b1e4-1731866b1783",
   "metadata": {},
   "outputs": [],
   "source": []
  },
  {
   "cell_type": "markdown",
   "id": "46061303-0e11-412e-bcd1-c1b8b883ea86",
   "metadata": {},
   "source": [
    "## **Problem 4.** Find The maximum and minimum pixel values for an image.\n",
    "\n",
    "For a numpy array, for example, \n",
    "\n",
    "`myArr = np.random.randint(0,100,(28,28))`\n",
    "\n",
    "creates an array of random integers from `0` to `100` with dimensions `(28,28)`. To get the maximum and value in it, we can write:\n",
    "\n",
    "`max = myArr.max()` and `min = myArr.min()`"
   ]
  },
  {
   "cell_type": "code",
   "execution_count": null,
   "id": "843487d4-5914-4cdb-9a15-815fd8941b95",
   "metadata": {},
   "outputs": [],
   "source": []
  },
  {
   "cell_type": "markdown",
   "id": "a73d3ca1-c585-4dd4-96a3-e4d1146a6e51",
   "metadata": {},
   "source": [
    "## **Problem 5.** Reformat the data to get it ready for machine learning\n",
    "\n",
    "The maximum value of a pixel is the maximum value that an **8-bit** integer can have. Tensorflow layers require the input to be **32 bits.** So we have to reformat our data. \n",
    "\n",
    "* First we will **normalize** the data by dividing all pixel values by the maximum pixel value. This will make all pixel values between $0$ and $1$.\n",
    "\n",
    "* Then we change the datatype to be a 32 bit floating point number\n",
    "\n",
    "Below is an example. **You may want to read the following couple examples**"
   ]
  },
  {
   "cell_type": "code",
   "execution_count": 3,
   "id": "ef5dbfdb-e18e-4dfd-92be-b80b8f98252e",
   "metadata": {},
   "outputs": [
    {
     "name": "stdout",
     "output_type": "stream",
     "text": [
      "[[ 92  17  29 ... 241  82  91]\n",
      " [122  59 181 ... 207  20  88]\n",
      " [ 13 111 174 ... 115 133 116]\n",
      " ...\n",
      " [ 73  12 151 ... 101  47 161]\n",
      " [ 93  76  35 ... 192  45 177]\n",
      " [ 17 157  15 ... 211  44  90]]\n",
      "\n",
      "max value: 255\n",
      "\n",
      "min value: 0\n",
      "\n",
      "datatype: uint8\n"
     ]
    },
    {
     "data": {
      "text/plain": [
       "(100, 32, 32)"
      ]
     },
     "execution_count": 3,
     "metadata": {},
     "output_type": "execute_result"
    }
   ],
   "source": [
    "examples = np.random.randint(0,256,(100,32,32), dtype='uint8')\n",
    "print(examples[0])\n",
    "print('\\nmax value: ' +str(examples[0].max()))\n",
    "print('\\nmin value: ' +str(examples[0].min()))\n",
    "print('\\ndatatype: ' +str(examples[0].dtype))\n",
    "examples.shape"
   ]
  },
  {
   "cell_type": "markdown",
   "id": "25f33589-0c40-46e0-a259-c60546d95a0a",
   "metadata": {},
   "source": [
    "The array has dimensions $32\\times 32$, and has datatype `uint8` which is an 8-bit integer. To **normalize** the data, just divide it as such:"
   ]
  },
  {
   "cell_type": "code",
   "execution_count": 4,
   "id": "cc3a120d-4f6e-4e40-992e-fa26cae2113c",
   "metadata": {},
   "outputs": [
    {
     "name": "stdout",
     "output_type": "stream",
     "text": [
      "[[0.36078431 0.06666667 0.11372549 ... 0.94509804 0.32156863 0.35686275]\n",
      " [0.47843137 0.23137255 0.70980392 ... 0.81176471 0.07843137 0.34509804]\n",
      " [0.05098039 0.43529412 0.68235294 ... 0.45098039 0.52156863 0.45490196]\n",
      " ...\n",
      " [0.28627451 0.04705882 0.59215686 ... 0.39607843 0.18431373 0.63137255]\n",
      " [0.36470588 0.29803922 0.1372549  ... 0.75294118 0.17647059 0.69411765]\n",
      " [0.06666667 0.61568627 0.05882353 ... 0.82745098 0.17254902 0.35294118]]\n"
     ]
    }
   ],
   "source": [
    "examples = examples/255.0\n",
    "print(examples[0])"
   ]
  },
  {
   "cell_type": "markdown",
   "id": "642236fe-dbf2-4542-bcb4-96cd30547326",
   "metadata": {},
   "source": [
    "To change the datatype to be a 32-bit floating point number, we can to the following:"
   ]
  },
  {
   "cell_type": "code",
   "execution_count": 5,
   "id": "8672e539-5c3f-4867-847e-1b8775ed1c5c",
   "metadata": {},
   "outputs": [],
   "source": [
    "examples = examples.astype('float32')"
   ]
  },
  {
   "cell_type": "code",
   "execution_count": 6,
   "id": "241e5f6f-3c1a-488e-8e08-ee0765ad4258",
   "metadata": {},
   "outputs": [
    {
     "name": "stdout",
     "output_type": "stream",
     "text": [
      "float32\n"
     ]
    }
   ],
   "source": [
    "print(examples.dtype)"
   ]
  },
  {
   "cell_type": "markdown",
   "id": "e382f4d3-ac6c-4dd7-9dfc-c36bdf3edb69",
   "metadata": {},
   "source": [
    "## **Problem 6.** Lastly, add a **color channel** to the data\n",
    "\n",
    "Store it into an array called `formatted_train_images` and `formatted_test_images`.\n",
    "\n",
    "Images normally contain an extra dimension to account for color. If our image were in color, it would have shape/dimension of `(28, 28, 3)`. But we don't have that last dimension. We only have one channel. But to input our data into a machine learning model, we need to specify that we only have one color channel. So we want our data to have shape `(60000, 28, 28, 1)`. So we add this by doing the following\n"
   ]
  },
  {
   "cell_type": "code",
   "execution_count": 7,
   "id": "37cddb7c-832d-4ba1-a830-d22ae427660e",
   "metadata": {},
   "outputs": [
    {
     "name": "stdout",
     "output_type": "stream",
     "text": [
      "Shape of examples array: (100, 32, 32)\n",
      "Shape of examples array after adding dimension: (100, 32, 32, 1)\n"
     ]
    }
   ],
   "source": [
    "print('Shape of examples array: ' +str(examples.shape))\n",
    "\n",
    "formatted_data = np.expand_dims(examples,-1)\n",
    "\n",
    "print('Shape of examples array after adding dimension: ' + str(formatted_data.shape))"
   ]
  },
  {
   "cell_type": "markdown",
   "id": "74cb601e-0744-45dc-a39f-b80e087c8347",
   "metadata": {},
   "source": [
    "## **Problem 7.** Save the data for later use\n",
    "\n",
    "To do this, use the following:\n",
    "```\n",
    "with open('formatted_train_images.npy', 'wb') as f:\n",
    "    np.save(f, formatted_train_images)\n",
    "```"
   ]
  },
  {
   "cell_type": "code",
   "execution_count": 8,
   "id": "2ec4e5ff-30b1-454d-b7bd-b6a2d1bb6cdf",
   "metadata": {},
   "outputs": [],
   "source": [
    "with open('formatted_train_images.npy','wb') as f:\n",
    "    np.save(f,formatted_data)"
   ]
  },
  {
   "cell_type": "markdown",
   "id": "e387cd11-2a6b-4fa9-9af4-3d5b4354ca5c",
   "metadata": {},
   "source": [
    "To reload your data later, you can use the following comand:\n",
    "\n",
    "```\n",
    "with open('formatted_train_images.npy', 'rb') as f:\n",
    "    a = np.load(f)\n",
    "```\n",
    "\n",
    "this will load your array into the variable `a`"
   ]
  },
  {
   "cell_type": "code",
   "execution_count": null,
   "id": "d21ecf72-4820-4b5c-8f16-46a056dc363d",
   "metadata": {},
   "outputs": [],
   "source": []
  },
  {
   "cell_type": "markdown",
   "id": "e62fb032-ee12-4eea-973a-15d09fc101b6",
   "metadata": {},
   "source": [
    "## **Problem 8.** Format Labels\n",
    "\n",
    "We need to format the labels in a format called **[one hot encoding](https://www.geeksforgeeks.org/ml-one-hot-encoding/)**. Since there are 10 possible digits that it could predict, we need to change each label to be an array having the following format:\n",
    "\n",
    "$$\n",
    "0 \\rightarrow [\\underbrace{1}_0,0,0,0,0,0,0,0,0,0]\\\\~\\\\\n",
    "1 \\rightarrow [0,\\underbrace{1}_1,0,0,0,0,0,0,0,0]\\\\~\\\\\n",
    "2 \\rightarrow [0,0,\\underbrace{1}_2,0,0,0,0,0,0,0]\\\\~\\\\\n",
    "3 \\rightarrow [0,0,0,\\underbrace{1}_3,0,0,0,0,0,0]\\\\~\\\\\n",
    "4 \\rightarrow [0,0,0,0,\\underbrace{1}_4,0,0,0,0,0]\\\\~\\\\\n",
    "5 \\rightarrow [0,0,0,0,0,\\underbrace{1}_5,0,0,0,0]\\\\~\\\\\n",
    "6 \\rightarrow [0,0,0,0,0,0,\\underbrace{1}_6,0,0,0]\\\\~\\\\\n",
    "7 \\rightarrow [0,0,0,0,0,0,0,\\underbrace{1}_7,0,0]\\\\~\\\\\n",
    "8 \\rightarrow [0,0,0,0,0,0,0,0,\\underbrace{1}_8,0]\\\\~\\\\\n",
    "9 \\rightarrow [0,0,0,0,0,0,0,0,0,\\underbrace{1}_9]\\\\~\\\\\n",
    "$$\n",
    "**Hint:** For the training labels, create $60,000$ arrays, each array containing $10$ zerps using the `np.zeros(60000,10)` command. For each label in the training labels, add a `1` in the position in the position it should be in."
   ]
  },
  {
   "cell_type": "code",
   "execution_count": null,
   "id": "066f9810-44e4-4ea6-b548-6e926fb70e52",
   "metadata": {},
   "outputs": [],
   "source": []
  }
 ],
 "metadata": {
  "kernelspec": {
   "display_name": "Python 3 (ipykernel)",
   "language": "python",
   "name": "python3"
  },
  "language_info": {
   "codemirror_mode": {
    "name": "ipython",
    "version": 3
   },
   "file_extension": ".py",
   "mimetype": "text/x-python",
   "name": "python",
   "nbconvert_exporter": "python",
   "pygments_lexer": "ipython3",
   "version": "3.10.9"
  }
 },
 "nbformat": 4,
 "nbformat_minor": 5
}
